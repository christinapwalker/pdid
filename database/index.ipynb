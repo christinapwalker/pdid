{
  "cells": [
    {
      "cell_type": "raw",
      "metadata": {},
      "source": [
        "---\n",
        "title: \"Photography\"\n",
        "format: html\n",
        "---"
      ],
      "id": "5444af2b"
    },
    {
      "cell_type": "markdown",
      "metadata": {},
      "source": [
        "```{html}\n",
        "<div class=\"iframe-container\" style=\"position: relative; width: 100%; height: 100vh; overflow: hidden;\">\n",
        "    <iframe class=\"airtable-embed\" src=\"https://airtable.com/embed/appOU03dlKuBdbmty/shrRy4E1WLyfpBfIn?viewControls=on\" frameborder=\"0\" style=\"background: transparent; width: 100%; height: 100%;\"></iframe>\n",
        "</div>"
      ],
      "id": "cbd7fe44"
    }
  ],
  "metadata": {
    "kernelspec": {
      "name": "tensorflow",
      "language": "python",
      "display_name": "Python 3.9 (tensorflow)"
    }
  },
  "nbformat": 4,
  "nbformat_minor": 5
}